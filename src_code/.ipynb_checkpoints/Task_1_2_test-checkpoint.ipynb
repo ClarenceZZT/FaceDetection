{
 "cells": [
  {
   "cell_type": "code",
   "execution_count": 1,
   "id": "a649a676-e98d-4cc1-92bb-66cd915cde9b",
   "metadata": {
    "tags": []
   },
   "outputs": [
    {
     "name": "stdout",
     "output_type": "stream",
     "text": [
      "model loaded successfully\n"
     ]
    }
   ],
   "source": [
    "import torch\n",
    "import numpy as np\n",
    "import cv2\n",
    "import config\n",
    "import utils\n",
    "from tqdm import tqdm\n",
    "from model import FaceKeypointResNet50\n",
    "\n",
    "model = FaceKeypointResNet50(pretrained=False, requires_grad=False).to(config.DEVICE)\n",
    "# load the model checkpoint\n",
    "checkpoint = torch.load('../outputs/model.pth')\n",
    "# load model weights state_dict\n",
    "model.load_state_dict(checkpoint['model_state_dict'])\n",
    "model.eval()\n",
    "model.to('cuda')\n",
    "print('model loaded successfully')"
   ]
  },
  {
   "cell_type": "code",
   "execution_count": 2,
   "id": "410f2e6f-9d6b-4f00-b51c-7ad403d5a620",
   "metadata": {
    "tags": []
   },
   "outputs": [],
   "source": [
    "from dataset import FacialKeypointsDataset\n",
    "from torch.utils.data import DataLoader\n",
    "data=FacialKeypointsDataset(f'{config.ROOT_PATH}/test_frames_keypoints.csv',f'{config.ROOT_PATH}/test')\n",
    "dataloader=DataLoader(data,batch_size=config.BATCH_SIZE,shuffle=False)"
   ]
  },
  {
   "cell_type": "code",
   "execution_count": 3,
   "id": "4f0571b8-6c64-4c5d-a2a7-c2d9051ca5a5",
   "metadata": {
    "tags": []
   },
   "outputs": [],
   "source": [
    "import torch.nn as nn\n",
    "def r2_loss(output, target):\n",
    "    target_mean = torch.mean(target)\n",
    "    ss_tot = torch.sum((target - target_mean) ** 2)\n",
    "    ss_res = torch.sum((target - output) ** 2)\n",
    "    r2 = 1 - ss_res / ss_tot\n",
    "    return r2"
   ]
  },
  {
   "cell_type": "code",
   "execution_count": 4,
   "id": "3e03d9c3-2bdb-46e7-9475-c492dc116f4b",
   "metadata": {
    "tags": []
   },
   "outputs": [
    {
     "name": "stderr",
     "output_type": "stream",
     "text": [
      "  0%|                                                                                           | 0/12 [00:00<?, ?it/s]"
     ]
    },
    {
     "name": "stdout",
     "output_type": "stream",
     "text": [
      "(64, 136) (64, 136)\n"
     ]
    },
    {
     "name": "stderr",
     "output_type": "stream",
     "text": [
      "13it [00:34,  2.65s/it]                                                                                                "
     ]
    },
    {
     "name": "stdout",
     "output_type": "stream",
     "text": [
      "SmoothL1Loss: 2.065878492135268\n",
      "MSELoss: 10.331470196063702\n",
      "MAELoss: 2.52412093602694\n",
      "R2Loss: 0.9849742238338177\n"
     ]
    },
    {
     "name": "stderr",
     "output_type": "stream",
     "text": [
      "\n"
     ]
    }
   ],
   "source": [
    "with torch.no_grad():\n",
    "    cnt=0\n",
    "    SmoothL1Loss=0.0\n",
    "    MSE=0.0\n",
    "    MAE=0.0\n",
    "    R2=0.0\n",
    "    num_batches=int(len(data)/dataloader.batch_size)\n",
    "    for i,data in tqdm(enumerate(dataloader),total=num_batches):\n",
    "        cnt+=1\n",
    "        image,keypoints=data['image'].to(config.DEVICE),data['keypoints'].to(config.DEVICE)\n",
    "        keypoints=keypoints.view(keypoints.size(0),-1)\n",
    "        outputs=model(image)\n",
    "        SmoothL1Loss+=nn.SmoothL1Loss()(outputs,keypoints).item()\n",
    "        MSE+=nn.MSELoss()(outputs,keypoints).item()\n",
    "        MAE+=nn.L1Loss()(outputs,keypoints).item()\n",
    "        R2+=r2_loss(outputs,keypoints).item()\n",
    "        if i==0:\n",
    "            utils.draw_keypoints(image,outputs,keypoints)\n",
    "    print('SmoothL1Loss:',SmoothL1Loss/cnt)\n",
    "    print('MSELoss:',MSE/cnt)\n",
    "    print('MAELoss:',MAE/cnt)\n",
    "    print('R2Loss:',R2/cnt)"
   ]
  }
 ],
 "metadata": {
  "kernelspec": {
   "display_name": "transunet",
   "language": "python",
   "name": "transunet"
  },
  "language_info": {
   "codemirror_mode": {
    "name": "ipython",
    "version": 3
   },
   "file_extension": ".py",
   "mimetype": "text/x-python",
   "name": "python",
   "nbconvert_exporter": "python",
   "pygments_lexer": "ipython3",
   "version": "3.7.16"
  }
 },
 "nbformat": 4,
 "nbformat_minor": 5
}
