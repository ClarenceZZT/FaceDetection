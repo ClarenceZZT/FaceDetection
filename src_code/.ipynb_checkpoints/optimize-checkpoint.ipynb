{
 "cells": [
  {
   "cell_type": "code",
   "execution_count": 1,
   "id": "01bd09fe-1665-46ee-97dd-a3c3e91b6b56",
   "metadata": {
    "tags": []
   },
   "outputs": [],
   "source": [
    "import torch\n",
    "import numpy as np\n",
    "import cv2\n",
    "import config\n",
    "import torch.nn as nn\n",
    "from tqdm import tqdm\n",
    "from model import FaceKeypointResNet50\n",
    "import time\n",
    "import utils\n",
    "from dataset import FacialKeypointsDataset\n",
    "from torch.utils.data import DataLoader"
   ]
  },
  {
   "cell_type": "code",
   "execution_count": 2,
   "id": "9ca459c1-e66e-4393-88f2-626bd73b79fc",
   "metadata": {
    "tags": []
   },
   "outputs": [
    {
     "name": "stdout",
     "output_type": "stream",
     "text": [
      "model loaded successfully\n"
     ]
    }
   ],
   "source": [
    "model = FaceKeypointResNet50(pretrained=False, requires_grad=False).to(config.DEVICE)\n",
    "# load the model checkpoint\n",
    "checkpoint = torch.load('../outputs/model.pth')\n",
    "# load model weights state_dict\n",
    "model.load_state_dict(checkpoint['model_state_dict'])\n",
    "model.eval()\n",
    "print('model loaded successfully')\n",
    "\n",
    "valid_data=FacialKeypointsDataset(f'{config.ROOT_PATH}/test_frames_keypoints.csv',f'{config.ROOT_PATH}/test')\n",
    "valid_loader=DataLoader(valid_data,batch_size=config.BATCH_SIZE,shuffle=False)\n",
    "criterion=nn.SmoothL1Loss()\n"
   ]
  },
  {
   "cell_type": "code",
   "execution_count": 3,
   "id": "f1aae97c-daf8-4999-becc-0ac64661edc2",
   "metadata": {
    "tags": []
   },
   "outputs": [],
   "source": [
    "def validate(model, dataloader, data):\n",
    "    print('Validating')\n",
    "    model.eval()\n",
    "    valid_running_loss = 0.0\n",
    "    counter = 0\n",
    "    num_batches = int(len(data)/dataloader.batch_size)\n",
    "    total=0.0\n",
    "    with torch.no_grad():\n",
    "        for i, data in tqdm(enumerate(dataloader), total=num_batches):\n",
    "            counter += 1\n",
    "            image, keypoints = data['image'].to(config.DEVICE), data['keypoints'].to(config.DEVICE)\n",
    "            # flatten the keypoints\n",
    "            keypoints = keypoints.view(keypoints.size(0), -1)\n",
    "            start=time.time()\n",
    "            outputs = model(image)\n",
    "            end=time.time()\n",
    "            total+=end-start\n",
    "            loss = criterion(outputs, keypoints)\n",
    "            valid_running_loss += loss.item()\n",
    "            #if  i == 0:\n",
    "            #    utils.draw_keypoints(image, outputs, keypoints,epoch)\n",
    "        \n",
    "    valid_loss = valid_running_loss/counter\n",
    "    return valid_loss,total\n"
   ]
  },
  {
   "cell_type": "code",
   "execution_count": 4,
   "id": "4704760b-2bed-4625-a778-f5c8b3886ac7",
   "metadata": {
    "tags": []
   },
   "outputs": [
    {
     "name": "stderr",
     "output_type": "stream",
     "text": [
      "  0%|                                                                                           | 0/12 [00:00<?, ?it/s]"
     ]
    },
    {
     "name": "stdout",
     "output_type": "stream",
     "text": [
      "Validating\n"
     ]
    },
    {
     "name": "stderr",
     "output_type": "stream",
     "text": [
      "13it [00:05,  2.24it/s]                                                                                                "
     ]
    },
    {
     "name": "stdout",
     "output_type": "stream",
     "text": [
      "(2.065878492135268, 1.2020952701568604)\n"
     ]
    },
    {
     "name": "stderr",
     "output_type": "stream",
     "text": [
      "\n"
     ]
    }
   ],
   "source": [
    "res=validate(model,valid_loader,valid_data)\n",
    "print(res)"
   ]
  },
  {
   "cell_type": "code",
   "execution_count": 5,
   "id": "f7d61e13-5b5c-42e3-98d5-4e198b57c0c4",
   "metadata": {
    "tags": []
   },
   "outputs": [],
   "source": [
    "def validate_(model, dataloader, data):\n",
    "    print('Validating')\n",
    "    model.eval()\n",
    "    valid_running_loss = 0.0\n",
    "    counter = 0\n",
    "    num_batches = int(len(data)/dataloader.batch_size)\n",
    "    total=0.0\n",
    "    with torch.no_grad():\n",
    "        for i, data in tqdm(enumerate(dataloader), total=num_batches):\n",
    "            counter += 1\n",
    "            image, keypoints = data['image'].to(config.DEVICE), data['keypoints'].to(config.DEVICE)\n",
    "            # flatten the keypoints\n",
    "            keypoints = keypoints.view(keypoints.size(0), -1)\n",
    "            image=image.to(torch.float16)\n",
    "            start=time.time()\n",
    "            outputs = model(image)\n",
    "            end=time.time()\n",
    "            total+=end-start\n",
    "            loss = criterion(outputs, keypoints)\n",
    "            valid_running_loss += loss.item()\n",
    "            #if  i == 0:\n",
    "            #    utils.draw_keypoints(image, outputs, keypoints,epoch)\n",
    "        \n",
    "    valid_loss = valid_running_loss/counter\n",
    "    return valid_loss,total"
   ]
  },
  {
   "cell_type": "code",
   "execution_count": 6,
   "id": "7621b7c1-a760-4a4e-8e30-97465cddb80f",
   "metadata": {
    "tags": []
   },
   "outputs": [
    {
     "name": "stderr",
     "output_type": "stream",
     "text": [
      "  0%|                                                                                           | 0/12 [00:00<?, ?it/s]"
     ]
    },
    {
     "name": "stdout",
     "output_type": "stream",
     "text": [
      "Validating\n"
     ]
    },
    {
     "name": "stderr",
     "output_type": "stream",
     "text": [
      "13it [00:15,  1.16s/it]                                                                                                "
     ]
    },
    {
     "name": "stdout",
     "output_type": "stream",
     "text": [
      "(2.065853870832003, 0.09809064865112305)\n"
     ]
    },
    {
     "name": "stderr",
     "output_type": "stream",
     "text": [
      "\n"
     ]
    }
   ],
   "source": [
    "model_=model.to(torch.float16)\n",
    "res_=validate_(model_,valid_loader,valid_data)\n",
    "print(res_)"
   ]
  },
  {
   "cell_type": "code",
   "execution_count": 7,
   "id": "a809fb08-a3cc-4d8b-a39d-1f9d864a8a3e",
   "metadata": {
    "tags": []
   },
   "outputs": [
    {
     "ename": "ModuleNotFoundError",
     "evalue": "No module named 'torch.cuda.amp'",
     "output_type": "error",
     "traceback": [
      "\u001b[1;31m---------------------------------------------------------------------------\u001b[0m",
      "\u001b[1;31mModuleNotFoundError\u001b[0m                       Traceback (most recent call last)",
      "\u001b[1;32m~\\AppData\\Local\\Temp\\ipykernel_11640\\338566941.py\u001b[0m in \u001b[0;36m<module>\u001b[1;34m\u001b[0m\n\u001b[1;32m----> 1\u001b[1;33m \u001b[1;32mfrom\u001b[0m \u001b[0mtorch\u001b[0m\u001b[1;33m.\u001b[0m\u001b[0mcuda\u001b[0m\u001b[1;33m.\u001b[0m\u001b[0mamp\u001b[0m \u001b[1;32mimport\u001b[0m \u001b[0mautocast\u001b[0m\u001b[1;33m\u001b[0m\u001b[1;33m\u001b[0m\u001b[0m\n\u001b[0m",
      "\u001b[1;31mModuleNotFoundError\u001b[0m: No module named 'torch.cuda.amp'"
     ]
    }
   ],
   "source": [
    "from torch.cuda.amp import autocast"
   ]
  },
  {
   "cell_type": "code",
   "execution_count": null,
   "id": "2c3e9e93-b506-4690-90dc-f2ec5edace15",
   "metadata": {},
   "outputs": [],
   "source": [
    "def validate_auto(model, dataloader, data):\n",
    "    print('Validating')\n",
    "    model.eval()\n",
    "    valid_running_loss = 0.0\n",
    "    counter = 0\n",
    "    num_batches = int(len(data)/dataloader.batch_size)\n",
    "    total=0.0\n",
    "    with torch.no_grad():\n",
    "        for i, data in tqdm(enumerate(dataloader), total=num_batches):\n",
    "            counter += 1\n",
    "            image, keypoints = data['image'].to(config.DEVICE), data['keypoints'].to(config.DEVICE)\n",
    "            # flatten the keypoints\n",
    "            keypoints = keypoints.view(keypoints.size(0), -1)\n",
    "            with autocast:    \n",
    "                start=time.time()\n",
    "                outputs = model(image)\n",
    "                end=time.time()\n",
    "            total+=end-start\n",
    "            loss = criterion(outputs, keypoints)\n",
    "            valid_running_loss += loss.item()\n",
    "            #if  i == 0:\n",
    "            #    utils.draw_keypoints(image, outputs, keypoints,epoch)\n",
    "        \n",
    "    valid_loss = valid_running_loss/counter\n",
    "    return valid_loss,total"
   ]
  },
  {
   "cell_type": "code",
   "execution_count": null,
   "id": "be6e4e36-75d3-4d85-9562-2875ac270788",
   "metadata": {},
   "outputs": [],
   "source": [
    "res_auto=validate_auto(model,valid_loader,valid_data)\n",
    "print(res_auto)"
   ]
  }
 ],
 "metadata": {
  "kernelspec": {
   "display_name": "transunet",
   "language": "python",
   "name": "transunet"
  },
  "language_info": {
   "codemirror_mode": {
    "name": "ipython",
    "version": 3
   },
   "file_extension": ".py",
   "mimetype": "text/x-python",
   "name": "python",
   "nbconvert_exporter": "python",
   "pygments_lexer": "ipython3",
   "version": "3.7.16"
  }
 },
 "nbformat": 4,
 "nbformat_minor": 5
}
